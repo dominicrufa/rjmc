{
 "cells": [
  {
   "cell_type": "markdown",
   "metadata": {},
   "source": [
    "# Scanning Freesolv for Heterocycles"
   ]
  },
  {
   "cell_type": "markdown",
   "metadata": {},
   "source": [
    "We are going to import the ring_mols dict and only look at 1 an 2 ring systems.  Then we will make another dict where we separate by the number of members in the ring..."
   ]
  },
  {
   "cell_type": "markdown",
   "metadata": {},
   "source": [
    "After this, each entry in the dict will be checked to make sure that they have the same number of heavy atoms.  perturbations will be conducted on systems where (among the ring members) there is a different neighborhood list."
   ]
  },
  {
   "cell_type": "code",
   "execution_count": 1,
   "metadata": {},
   "outputs": [],
   "source": [
    "# get the freesolv database\n",
    "import requests\n",
    "from openeye import oechem\n",
    "from perses.utils.openeye import createOEMolFromSMILES, createOEMolFromIUPAC\n",
    "import tqdm"
   ]
  },
  {
   "cell_type": "code",
   "execution_count": 2,
   "metadata": {},
   "outputs": [],
   "source": [
    "mol = createOEMolFromIUPAC('naphthalene')"
   ]
  },
  {
   "cell_type": "code",
   "execution_count": 4,
   "metadata": {},
   "outputs": [],
   "source": [
    "oechem.OEFindRingAtomsAndBonds(mol)"
   ]
  },
  {
   "cell_type": "code",
   "execution_count": 5,
   "metadata": {},
   "outputs": [],
   "source": [
    "nrings, parts = oechem.OEDetermineRingSystems(mol)"
   ]
  },
  {
   "cell_type": "code",
   "execution_count": null,
   "metadata": {},
   "outputs": [],
   "source": []
  },
  {
   "cell_type": "code",
   "execution_count": 9,
   "metadata": {},
   "outputs": [
    {
     "data": {
      "text/plain": [
       "(2, [0, 0, 0, 1, 1, 1, 1, 1, 1, 1, 1, 2, 2, 2, 2, 2, 2, 2, 2, 2, 2, 1])"
      ]
     },
     "execution_count": 9,
     "metadata": {},
     "output_type": "execute_result"
    }
   ],
   "source": [
    "mol = oechem.OEGraphMol()\n",
    "oechem.OESmilesToMol(mol, \"C(O)(=O)c1cccc2c1[nH]c(C3CCCc4c3cccc4)c2\")\n",
    "\n",
    "nraromsystems, parts = oechem.OEDetermineRingSystems(mol)\n",
    "\n",
    "(nraromsystems, parts)"
   ]
  },
  {
   "cell_type": "code",
   "execution_count": 10,
   "metadata": {},
   "outputs": [
    {
     "name": "stdout",
     "output_type": "stream",
     "text": [
      "Aliphatic atoms: 0 1 2 \n",
      "Number of aromatic ring systems = 2\n",
      "1 . aromatic ring system: 3 4 5 6 7 8 9 10 21 \n",
      "2 . aromatic ring system: 11 12 13 14 15 16 17 18 19 20 \n"
     ]
    }
   ],
   "source": [
    "print(\"Aliphatic atoms:\", end=\" \")\n",
    "for atom in mol.GetAtoms():\n",
    "    if parts[atom.GetIdx()] == 0:\n",
    "        print(atom.GetIdx(), end=\" \")\n",
    "print()\n",
    "\n",
    "print(\"Number of aromatic ring systems =\", nraromsystems)\n",
    "\n",
    "for ringidx in range(1, nraromsystems + 1):\n",
    "    print(ringidx, \". aromatic ring system:\", end=\" \")\n",
    "    for atom in mol.GetAtoms():\n",
    "        if parts[atom.GetIdx()] == ringidx:\n",
    "            print(atom.GetIdx(), end=\" \")\n",
    "    print()"
   ]
  },
  {
   "cell_type": "code",
   "execution_count": 16,
   "metadata": {},
   "outputs": [],
   "source": [
    "mol = createOEMolFromIUPAC('naphthalene')"
   ]
  },
  {
   "cell_type": "code",
   "execution_count": 24,
   "metadata": {},
   "outputs": [
    {
     "name": "stdout",
     "output_type": "stream",
     "text": [
      "yes\n",
      "0 smallest ring size= 6\n",
      "yes\n",
      "1 smallest ring size= 6\n",
      "yes\n",
      "2 smallest ring size= 6\n",
      "yes\n",
      "3 smallest ring size= 6\n",
      "yes\n",
      "4 smallest ring size= 6\n",
      "yes\n",
      "5 smallest ring size= 6\n",
      "yes\n",
      "6 smallest ring size= 6\n",
      "yes\n",
      "7 smallest ring size= 6\n",
      "yes\n",
      "8 smallest ring size= 6\n",
      "yes\n",
      "9 smallest ring size= 6\n",
      "10 acyclic\n",
      "11 acyclic\n",
      "12 acyclic\n",
      "13 acyclic\n",
      "14 acyclic\n",
      "15 acyclic\n",
      "16 acyclic\n",
      "17 acyclic\n"
     ]
    }
   ],
   "source": [
    "for atom in mol.GetAtoms():\n",
    "    if atom.IsInRing():\n",
    "        print('yes')\n",
    "    size = oechem.OEAtomGetSmallestRingSize(atom)\n",
    "    if size == 0:\n",
    "        print(atom.GetIdx(), \"acyclic\")\n",
    "    else:\n",
    "        print(atom.GetIdx(), \"smallest ring size=\", size)"
   ]
  },
  {
   "cell_type": "code",
   "execution_count": null,
   "metadata": {},
   "outputs": [],
   "source": [
    "def check_for_same_ring_structure(molA, molB):\n",
    "    \"\"\"\n",
    "    -argument: oemolA, oemolB\n",
    "    -return: bool, True if the architecture is the same (regardless of the atom)\n",
    "    \"\"\"\n",
    "        \n",
    "    #now the rigorous check to make sure that for each ring, the size/smallest ring sizes are the same\n",
    "    sizeA = sorted([oechem.OEAtomGetSmallestRingSize(atom) for atom in molA.GetAtoms() if oechem.OEAtomGetSmallestRingSize(atom) != 0])\n",
    "    sizeB = sorted([oechem.OEAtomGetSmallestRingSize(atom) for atom in molB.GetAtoms() if oechem.OEAtomGetSmallestRingSize(atom) != 0])\n",
    "    \n",
    "    if sizeA != sizeB:\n",
    "        return False\n",
    "\n",
    "    \n",
    "    atomic_numsA = sorted([atom.GetAtomicNum() for atom in molA.GetAtoms() if atom.IsInRing()])\n",
    "    atomic_numsB = sorted([atom.GetAtomicNum() for atom in molB.GetAtoms() if atom.IsInRing()])\n",
    "    if atomic_numsA != atomic_numsB and len(atomic_numsA) == len(atomic_numsB):\n",
    "        return True\n",
    "    else:\n",
    "        return False\n",
    "        \n",
    "        \n",
    "    \n",
    "    "
   ]
  },
  {
   "cell_type": "code",
   "execution_count": null,
   "metadata": {},
   "outputs": [],
   "source": [
    "def scan_for_heterocycles(combinations):\n",
    "    \"\"\"\n",
    "    -argument: list of smiles tuples of potential matches\n",
    "    -return: list of smiles that have the same ring system but differ by 1 or more constituent element\n",
    "    \"\"\"\n",
    "    molA, molB = oechem.OEGraphMol(), oechem.OEGraphMol() \n",
    "\n",
    "    for idx in tqdm.trange(combinations):\n",
    "        smileA, smileB = combinations[idx][0], combinations[idx][1]\n",
    "        oechem.OESmilesToMol(molA, smileA)\n",
    "        oechem.OESmilesToMol(molB, smileB)\n",
    "        \n",
    "        if check_for_same_ring_structure(molA, molB):\n",
    "            #if this passes, we can only append the combination if the cycle members don't have the same sorted list of atomic numbers\n",
    "            \n",
    "        \n",
    "        "
   ]
  }
 ],
 "metadata": {
  "kernelspec": {
   "display_name": "Python 3",
   "language": "python",
   "name": "python3"
  },
  "language_info": {
   "codemirror_mode": {
    "name": "ipython",
    "version": 3
   },
   "file_extension": ".py",
   "mimetype": "text/x-python",
   "name": "python",
   "nbconvert_exporter": "python",
   "pygments_lexer": "ipython3",
   "version": "3.6.8"
  }
 },
 "nbformat": 4,
 "nbformat_minor": 2
}
