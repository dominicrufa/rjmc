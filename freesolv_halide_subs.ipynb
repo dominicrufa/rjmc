{
 "cells": [
  {
   "cell_type": "code",
   "execution_count": 1,
   "metadata": {},
   "outputs": [],
   "source": [
    "# get the freesolv database\n",
    "import requests\n",
    "from openeye import oechem\n",
    "from perses.utils.openeye import createOEMolFromSMILES, createOEMolFromIUPAC\n",
    "import tqdm\n"
   ]
  },
  {
   "cell_type": "code",
   "execution_count": 2,
   "metadata": {},
   "outputs": [],
   "source": [
    "def separate_cycles(smiles_list, nrings = [0,1,2]):\n",
    "    from openeye import oechem\n",
    "    \"\"\"\n",
    "    -input list is a list of smiles\n",
    "    -outputs a dictionary with keys as nrings and the smiles associated with each\n",
    "    \"\"\"\n",
    "    ring_mols = {i:[] for i in nrings}\n",
    "    for item_index in tqdm.trange(len(smiles_list)):\n",
    "        mol = oechem.OEGraphMol()\n",
    "        smile = smiles_list[item_index]\n",
    "        oechem.OESmilesToMol(mol, smile)\n",
    "        \n",
    "        num_rings, parts = oechem.OEDetermineRingSystems(mol)\n",
    "        \n",
    "        try:\n",
    "            ring_mols[num_rings].append(smile)\n",
    "        except:\n",
    "            print(f\"{smile} does not live in any of the {nrings} ring systems.  Skipping...\")\n",
    "    \n",
    "    return ring_mols \n",
    "            "
   ]
  },
  {
   "cell_type": "code",
   "execution_count": 4,
   "metadata": {},
   "outputs": [],
   "source": [
    "def freesolv_to_smiles(url = 'https://raw.githubusercontent.com/MobleyLab/FreeSolv/master/database.txt'):\n",
    "    \"\"\"\n",
    "    the following will turn the freesolv dataset (given url) into a smiles list (tuples with (smile, iupac))\n",
    "    \"\"\"\n",
    "    smiles_list = []\n",
    "    whole_dataset = requests.get(url).text.split('\\n')[:-1]\n",
    "    whole_dataset = [i for i in whole_dataset if i[0] != '#']\n",
    "    for item_index in tqdm.trange(len(whole_dataset)):\n",
    "        line = whole_dataset[item_index]\n",
    "        details = line.split(';')\n",
    "        smile = details[1]\n",
    "        smiles_list.append(smile)\n",
    "    \n",
    "    return smiles_list\n",
    "        "
   ]
  },
  {
   "cell_type": "markdown",
   "metadata": {},
   "source": [
    "Begin parsing data and organizing"
   ]
  },
  {
   "cell_type": "code",
   "execution_count": 5,
   "metadata": {},
   "outputs": [
    {
     "name": "stderr",
     "output_type": "stream",
     "text": [
      "100%|████████████████████████████████████████████████████████████████████████████| 642/642 [00:00<00:00, 672849.37it/s]\n"
     ]
    }
   ],
   "source": [
    "smiles_list = freesolv_to_smiles()"
   ]
  },
  {
   "cell_type": "code",
   "execution_count": 6,
   "metadata": {},
   "outputs": [
    {
     "name": "stderr",
     "output_type": "stream",
     "text": [
      "100%|█████████████████████████████████████████████████████████████████████████████| 642/642 [00:00<00:00, 17399.37it/s]\n"
     ]
    }
   ],
   "source": [
    "ring_mols = separate_cycles(smiles_list)"
   ]
  },
  {
   "cell_type": "markdown",
   "metadata": {},
   "source": [
    "begin the process of finding all halide matches"
   ]
  },
  {
   "cell_type": "code",
   "execution_count": 7,
   "metadata": {},
   "outputs": [],
   "source": [
    "def natoms_nbonds_bool(molA, molB, check_halides = True, check_connectivity = True, hydrogens_halides = [1,9,17,35,53]):\n",
    "    \"\"\"\n",
    "    given two smiles, the function will determine whether the molecules share the same number of molecules and bonds.\n",
    "    if check_halides == True, the function will then check whether the molecules share the same number of elements \n",
    "    (minus hydrogens and halides)\n",
    "    \"\"\"\n",
    "    #first check\n",
    "    if not (molA.NumAtoms() == molB.NumAtoms() and molA.NumBonds() == molB.NumBonds()):\n",
    "        return False\n",
    "    \n",
    "    if check_connectivity:\n",
    "        #will check whether the elements are connected in the right order...\n",
    "        molA_connectivity = [sorted([bond.GetBgn().GetAtomicNum(), bond.GetEnd().GetAtomicNum()]) for bond in molA.GetBonds()]\n",
    "        molB_connectivity = [sorted([bond.GetBgn().GetAtomicNum(), bond.GetEnd().GetAtomicNum()]) for bond in molB.GetBonds()]\n",
    "\n",
    "        molA_connectivity = [i for i in molA_connectivity if not bool(set(i).intersection(hydrogens_halides))]\n",
    "        molB_connectivity = [i for i in molB_connectivity if not bool(set(i).intersection(hydrogens_halides))]\n",
    "        if len(molA_connectivity) != len(molB_connectivity):\n",
    "            return False\n",
    "        if not all(a in molB_connectivity for a in molA_connectivity):\n",
    "            return False\n",
    "    \n",
    "#     elif check_halides:\n",
    "#         atomic_numsA = [atom.GetAtomicNum() for atom in molA.GetAtoms() if atom.GetAtomicNum() not in hydrogens_halides]\n",
    "#         atomic_numsB = [atom.GetAtomicNum() for atom in molB.GetAtoms() if atom.GetAtomicNum() not in hydrogens_halides]\n",
    "#         if sorted(atomic_numsA) != sorted(atomic_numsB):\n",
    "    return True\n",
    "        \n",
    "        \n",
    "    "
   ]
  },
  {
   "cell_type": "code",
   "execution_count": 8,
   "metadata": {},
   "outputs": [],
   "source": [
    "def molecule_neighbors(mol, neglect_atoms = [1,9,17,35,53]):\n",
    "    \"\"\"\n",
    "    -given a mol, the function will loop through every atom in the molecule and return a list of neighbor atomic numbers\n",
    "    (neglecting hydrogens and halides if specified).  the loop will neglect hydrogens and halides if specified.\n",
    "    -returns a list of list of atom atomic numbers\n",
    "    \"\"\"\n",
    "    atoms = mol.GetAtoms()\n",
    "    neighbors_list = []\n",
    "    for atom in atoms:\n",
    "        if atom.GetAtomicNum() in neglect_atoms:\n",
    "            continue\n",
    "        neighbors = atom.GetAtoms()\n",
    "        neighbor_atomic_nums = [atom.GetAtomicNum() for atom in neighbors if atom.GetAtomicNum() not in neglect_atoms]\n",
    "        neighbors_list.append(sorted(neighbor_atomic_nums))\n",
    "        \n",
    "    return neighbors_list"
   ]
  },
  {
   "cell_type": "code",
   "execution_count": 9,
   "metadata": {},
   "outputs": [],
   "source": [
    "def remove_common_elements(a, b):\n",
    "    new_a, new_b = [], []\n",
    "    #we iteratively remove the common elements between two lists a and b, returning the resultant lists\n",
    "    for element in a:\n",
    "        if element not in b:\n",
    "            new_a.append(element)\n",
    "        else:\n",
    "            b.remove(element)\n",
    "    return new_a, b\n",
    "\n"
   ]
  },
  {
   "cell_type": "code",
   "execution_count": 10,
   "metadata": {},
   "outputs": [],
   "source": [
    "def check_halide_substitution(molA, molB, check_substitution = [1,9,17,35,53]):\n",
    "    \"\"\"\n",
    "    -will check a tuple for whether it has the given substitution\n",
    "    -bool\n",
    "    \"\"\"\n",
    "    \n",
    "    #the first thing we have to do is check that the molecules have the same number of atoms and bonds\n",
    "    #and that the connectivity is the same (with the exception of the given substitution)\n",
    "    if natoms_nbonds_bool(molA, molB, check_halides = True, check_connectivity = True, hydrogens_halides = check_substitution):\n",
    "        \n",
    "        #now we can go deeper and check if both molecules share the neighbors lists (with exceptions)\n",
    "        neighbors_listA, neighbors_listB = molecule_neighbors(molA, neglect_atoms = check_substitution), molecule_neighbors(molB, neglect_atoms = check_substitution)\n",
    "        new_a, new_b = remove_common_elements(neighbors_listA, neighbors_listB)\n",
    "        if new_a == [] and new_b == []:\n",
    "            return True\n",
    "    return False\n",
    "    "
   ]
  },
  {
   "cell_type": "code",
   "execution_count": null,
   "metadata": {},
   "outputs": [],
   "source": []
  },
  {
   "cell_type": "code",
   "execution_count": null,
   "metadata": {},
   "outputs": [],
   "source": []
  },
  {
   "cell_type": "markdown",
   "metadata": {},
   "source": [
    "we need to separate the 0 ring list (from the ring_mols dict) into another list of carbons\n"
   ]
  },
  {
   "cell_type": "code",
   "execution_count": 11,
   "metadata": {},
   "outputs": [],
   "source": [
    "def separate_by_ncarbons(smiles_list):\n",
    "    \"\"\"\n",
    "    -the following function will separate a smiles list into a dict of keys = number_of_carbons\n",
    "    \"\"\"\n",
    "    ncarbons_dict = {} \n",
    "    mol = oechem.OEGraphMol()\n",
    "    for smile in smiles_list:\n",
    "        oechem.OESmilesToMol(mol, smile)\n",
    "        atoms = mol.GetAtoms()\n",
    "        carbons = 0\n",
    "        for atom in atoms:\n",
    "            if atom.IsCarbon():\n",
    "                carbons += 1\n",
    "        \n",
    "        if carbons not in ncarbons_dict.keys():\n",
    "            ncarbons_dict[carbons] = [smile]\n",
    "        else:\n",
    "            ncarbons_dict[carbons].append(smile)\n",
    "    return ncarbons_dict\n",
    "        \n",
    "        \n",
    "        "
   ]
  },
  {
   "cell_type": "code",
   "execution_count": 12,
   "metadata": {},
   "outputs": [],
   "source": [
    "chain_dict = separate_by_ncarbons(ring_mols[0])"
   ]
  },
  {
   "cell_type": "markdown",
   "metadata": {},
   "source": [
    "now we can start (i think)\n"
   ]
  },
  {
   "cell_type": "code",
   "execution_count": 13,
   "metadata": {},
   "outputs": [],
   "source": [
    "def run(smiles_list):\n",
    "    \"\"\"\n",
    "    the following function will execute the smiles list into combinations of 2 and return a list of tuples (of oemols) as \n",
    "    viable halide jumps...\n",
    "    \"\"\"\n",
    "    from itertools import combinations\n",
    "    from perses.utils import openeye\n",
    "    \n",
    "    molA, molB = oechem.OEGraphMol(), oechem.OEGraphMol()\n",
    "\n",
    "    substitution_smiles = []\n",
    "    combos = list(combinations(smiles_list, 2))\n",
    "    \n",
    "    for i in tqdm.trange(len(combos)):\n",
    "        smileA, smileB = combos[i][0], combos[i][1]\n",
    "        oechem.OESmilesToMol(molA, smileA)\n",
    "        oechem.OESmilesToMol(molB, smileB)\n",
    "        oechem.OEAssignAromaticFlags(molA, oechem.OEAroModelOpenEye); oechem.OEAddExplicitHydrogens(molA)\n",
    "        oechem.OEAssignAromaticFlags(molB, oechem.OEAroModelOpenEye); oechem.OEAddExplicitHydrogens(molB)\n",
    "\n",
    "        halogens = 0\n",
    "        for atom in molA.GetAtoms():\n",
    "            if atom.IsHalogen():\n",
    "                halogens += 1\n",
    "        for atom in molA.GetAtoms():\n",
    "            if atom.IsHalogen():\n",
    "                halogens += 1\n",
    "\n",
    "        if halogens == 0:\n",
    "            continue\n",
    "\n",
    "        if check_halide_substitution(molA, molB, check_substitution = [1,9,17,35,53]):\n",
    "            substitution_smiles.append((molA, molB))\n",
    "    \n",
    "    return substitution_smiles\n",
    "    \n",
    "    \n",
    "    "
   ]
  },
  {
   "cell_type": "code",
   "execution_count": 14,
   "metadata": {},
   "outputs": [
    {
     "name": "stderr",
     "output_type": "stream",
     "text": [
      "100%|██████████████████████████████████████████████████████████████████████████████| 378/378 [00:00<00:00, 5670.74it/s]\n",
      "100%|███████████████████████████████████████████████████████████████████████████| 1035/1035 [00:00<00:00, 11530.83it/s]\n",
      "100%|███████████████████████████████████████████████████████████████████████████| 1081/1081 [00:00<00:00, 13137.32it/s]\n",
      "100%|██████████████████████████████████████████████████████████████████████████████| 171/171 [00:00<00:00, 7143.61it/s]\n",
      "100%|███████████████████████████████████████████████████████████████████████████| 1035/1035 [00:00<00:00, 12985.77it/s]\n",
      "100%|█████████████████████████████████████████████████████████████████████████████| 703/703 [00:00<00:00, 10673.34it/s]\n",
      "100%|████████████████████████████████████████████████████████████████████████████| 1275/1275 [00:00<00:00, 9279.66it/s]\n",
      "100%|████████████████████████████████████████████████████████████████████████████████| 28/28 [00:00<00:00, 4679.09it/s]\n",
      "100%|████████████████████████████████████████████████████████████████████████████████| 45/45 [00:00<00:00, 6414.83it/s]\n",
      "100%|█████████████████████████████████████████████████████████████████████████████| 231/231 [00:00<00:00, 10501.90it/s]\n",
      "100%|████████████████████████████████████████████████████████████████████████████████████████████| 3/3 [00:00<?, ?it/s]\n",
      "0it [00:00, ?it/s]\n",
      "0it [00:00, ?it/s]\n"
     ]
    }
   ],
   "source": [
    "#make a combo dict for the chain_dict\n",
    "chain_dict_combinations = {}\n",
    "for key, value in chain_dict.items():\n",
    "    comb_list = run(value)\n",
    "    chain_dict_combinations[key] = comb_list\n",
    "    \n",
    "    "
   ]
  },
  {
   "cell_type": "code",
   "execution_count": 15,
   "metadata": {},
   "outputs": [],
   "source": [
    "import pickle\n",
    "with open('carbon_chain_halide_subs.pkl', 'wb') as handle:\n",
    "    pickle.dump(chain_dict_combinations, handle)\n",
    "    "
   ]
  },
  {
   "cell_type": "code",
   "execution_count": 16,
   "metadata": {},
   "outputs": [
    {
     "name": "stderr",
     "output_type": "stream",
     "text": [
      "100%|██████████████████████████████████████████████████████████████████████████| 44253/44253 [00:05<00:00, 7859.80it/s]\n",
      "100%|██████████████████████████████████████████████████████████████████████████████| 276/276 [00:00<00:00, 3179.02it/s]\n"
     ]
    }
   ],
   "source": [
    "#make a combo dict for the 1 and 2 ring systems\n",
    "ring_dict_combinations = {}\n",
    "for key, value in ring_mols.items():\n",
    "    if key != 0:\n",
    "        comb_list = run(value)\n",
    "        ring_dict_combinations[key] = comb_list"
   ]
  },
  {
   "cell_type": "code",
   "execution_count": 17,
   "metadata": {},
   "outputs": [],
   "source": [
    "with open('ring_halide_subs.pkl', 'wb') as handle:\n",
    "    pickle.dump(ring_dict_combinations, handle)"
   ]
  },
  {
   "cell_type": "code",
   "execution_count": null,
   "metadata": {},
   "outputs": [],
   "source": []
  },
  {
   "cell_type": "code",
   "execution_count": null,
   "metadata": {},
   "outputs": [],
   "source": []
  },
  {
   "cell_type": "markdown",
   "metadata": {},
   "source": [
    "We now want to depict all of the molecules...\n"
   ]
  },
  {
   "cell_type": "code",
   "execution_count": 20,
   "metadata": {},
   "outputs": [],
   "source": [
    "chain_dict_combo_lengths = [(key, len(value)) for key, value in chain_dict_combinations.items()]"
   ]
  },
  {
   "cell_type": "code",
   "execution_count": 22,
   "metadata": {},
   "outputs": [
    {
     "data": {
      "text/plain": [
       "[(7, 6),\n",
       " (4, 13),\n",
       " (2, 178),\n",
       " (8, 0),\n",
       " (3, 38),\n",
       " (5, 7),\n",
       " (6, 5),\n",
       " (10, 0),\n",
       " (9, 0),\n",
       " (1, 104),\n",
       " (0, 0),\n",
       " (12, 0),\n",
       " (11, 0)]"
      ]
     },
     "execution_count": 22,
     "metadata": {},
     "output_type": "execute_result"
    }
   ],
   "source": [
    "chain_dict_combo_lengths"
   ]
  },
  {
   "cell_type": "code",
   "execution_count": 23,
   "metadata": {},
   "outputs": [],
   "source": [
    "ring_dict_combo_lengths = [(key, len(value)) for key, value in ring_dict_combinations.items()]"
   ]
  },
  {
   "cell_type": "code",
   "execution_count": 24,
   "metadata": {},
   "outputs": [
    {
     "data": {
      "text/plain": [
       "[(1, 229), (2, 79)]"
      ]
     },
     "execution_count": 24,
     "metadata": {},
     "output_type": "execute_result"
    }
   ],
   "source": [
    "ring_dict_combo_lengths "
   ]
  },
  {
   "cell_type": "code",
   "execution_count": null,
   "metadata": {},
   "outputs": [],
   "source": []
  }
 ],
 "metadata": {
  "kernelspec": {
   "display_name": "Python 3",
   "language": "python",
   "name": "python3"
  },
  "language_info": {
   "codemirror_mode": {
    "name": "ipython",
    "version": 3
   },
   "file_extension": ".py",
   "mimetype": "text/x-python",
   "name": "python",
   "nbconvert_exporter": "python",
   "pygments_lexer": "ipython3",
   "version": "3.6.8"
  }
 },
 "nbformat": 4,
 "nbformat_minor": 2
}
